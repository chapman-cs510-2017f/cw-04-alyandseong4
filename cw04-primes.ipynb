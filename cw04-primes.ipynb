{
 "cells": [
  {
   "cell_type": "code",
   "execution_count": 4,
   "metadata": {
    "collapsed": false
   },
   "outputs": [
   ],
   "source": [
    "import primes"
   ]
  },
  {
   "cell_type": "markdown",
   "metadata": {
    "collapsed": false
   },
   "source": [
    "### The Sieve of Eratosthenes\n",
    "\n",
    "This function outputs prime numbers smaller than the given integer number n.\n",
    "\n",
    "The Sieve of Eratosthenes algorithm removes composite numbers in order. List is the best data structure for this algorithm because the list in Python is mutable and approachable by index in order on a loop.  When a composite number become removed from the list, the number is not anymore computed in the next loop, which makes this code a little faster.\n",
    "\n",
    "The mathematical basis of this algorithm is based on arithmetic sequence that enumerates common difference between consecutive terms. For example, 2, 4, 6, 8, 10, ... an arithmetic progression with the common difference 2. \n",
    "\n",
    "The mathematical expression is like this: $${\\displaystyle \\ a_{n}=a_{m}+(n-m)d}$$.\n",
    "\n"
   ]
  },
  {
   "cell_type": "code",
   "execution_count": 5,
   "metadata": {
    "collapsed": false
   },
   "outputs": [
    {
     "name": "stdout",
     "output_type": "stream",
     "text": [
      "Pretty printing has been turned ON\n",
      "CPU times: user 0 ns, sys: 0 ns, total: 0 ns\n",
      "Wall time: 211 µs\n"
     ]
    },
    {
     "data": {
      "text/plain": [
       "[2,\n",
       " 3,\n",
       " 5,\n",
       " 7,\n",
       " 11,\n",
       " 13,\n",
       " 17,\n",
       " 19,\n",
       " 23,\n",
       " 29,\n",
       " 31,\n",
       " 37,\n",
       " 41,\n",
       " 43,\n",
       " 47,\n",
       " 53,\n",
       " 59,\n",
       " 61,\n",
       " 67,\n",
       " 71,\n",
       " 73,\n",
       " 79,\n",
       " 83,\n",
       " 89,\n",
       " 97]"
      ]
     },
     "execution_count": 5,
     "metadata": {
     },
     "output_type": "execute_result"
    }
   ],
   "source": [
    "%pprint\n",
    "%time primes.eratosthenes(100)"
   ]
  },
  {
   "cell_type": "markdown",
   "metadata": {
    "collapsed": false
   },
   "source": [
    "### Generating Prime Numbers\n",
    "\n",
    "This generator function is a little tweak from the previous eratosnthenes function. The basic implementation is same. However, in order to yield each prime number one at a time, an if-else statement is added to either decide prime numbers or composite numbers. Prime numbers will be yielded, while composite numbers will be removed in one loop. In addition, because the if-else statement does not include any additional loop, the code runs pretty fast."
   ]
  },
  {
   "cell_type": "code",
   "execution_count": 6,
   "metadata": {
    "collapsed": false
   },
   "outputs": [
   ],
   "source": [
    "%time primes.gen_eratosthenes(100000)\n",
    "%timeit primes.gen_eratosthenes(100000)"
   ]
  },
  {
   "cell_type": "markdown",
   "metadata": {
    "collapsed": false
   },
   "source": [
    "### Benchmarking Implementations\n",
    "\n",
    "Please do time and timeit on both functions, eratosthenes and gen_eratosthenes\n",
    "\n",
    "The expectation is that both functions perform equally with slight difference, because their implementations are same. However, the generator version will be more flexible and efficient if we need to control the output and the flow. Because each prime number will be created one at a time, we can add or mix easily other implementations."
   ]
  },
  {
   "cell_type": "code",
   "execution_count": 0,
   "metadata": {
    "collapsed": false
   },
   "outputs": [
   ],
   "source": [
    "%time primes.eratosthenes(10000)\n",
    "%timeit primes.eratosthenes(10000)"
   ]
  },
  {
   "cell_type": "code",
   "execution_count": 0,
   "metadata": {
    "collapsed": false
   },
   "outputs": [
   ],
   "source": [
    "import test_primes\n",
    "test_primes.test_primes()\n",
    "test_primes.test_primes1()\n",
    "test_primes.test_primes2()\n"
   ]
  }
 ],
 "metadata": {
  "kernelspec": {
   "display_name": "Python 3 (Anaconda)",
   "language": "python",
   "name": "anaconda3"
  },
  "language_info": {
   "codemirror_mode": {
    "name": "ipython",
    "version": 3
   },
   "file_extension": ".py",
   "mimetype": "text/x-python",
   "name": "python",
   "nbconvert_exporter": "python",
   "pygments_lexer": "ipython3",
   "version": "3.5.4"
  }
 },
 "nbformat": 4,
 "nbformat_minor": 0
}